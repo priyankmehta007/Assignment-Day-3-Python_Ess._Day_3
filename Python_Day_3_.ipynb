{
 "cells": [
  {
   "cell_type": "markdown",
   "metadata": {},
   "source": [
    "Assignment 2"
   ]
  },
  {
   "cell_type": "raw",
   "metadata": {},
   "source": [
    "1. Equal to       ->    == \n",
    "2. Not Equal to   ->    !=\n",
    "3. Greater than   ->    > \n",
    "4. Less than.     ->.   < \n",
    "5. Greater than Equal to ->   >= \n",
    "6. Less than Equal to ->  <= "
   ]
  },
  {
   "cell_type": "code",
   "execution_count": 5,
   "metadata": {},
   "outputs": [
    {
     "output_type": "stream",
     "name": "stdout",
     "text": [
      "Failed \n"
     ]
    }
   ],
   "source": [
    "#1Use IF ELSE and ELIF to write a program in python for your Report Cards.\n",
    "marks = int(input(\"Enter Marks\"))\n",
    "if marks >= 90 :\n",
    "    print(\"Grade -> A\")\n",
    "elif marks >= 60 and marks <90:\n",
    "    print(\"Grade -> B\")\n",
    "elif marks >= 40 and marks < 60:\n",
    "    print(\"Grade -> c\")\n",
    "else:\n",
    "    print( \"Failed \")"
   ]
  },
  {
   "cell_type": "raw",
   "metadata": {},
   "source": [
    "for name in lst:\n",
    "    print(\"Hello, \", name,\" Good evening\")\n",
    "\n",
    "1. \"for\" is a reserved Keyword in Python for the Looping which is used for looping iteratable Objects\n",
    "\n",
    "2. name -> name is a variable which can store things with each iteration\n",
    "\n",
    "3. in -> is a Reserved Keyword in Python which is used for the address getting part \n",
    "\n",
    "4. lst -> iterratable objects \n",
    "\n",
    "5. Indention \"    \" -> which is used to diff. sub body of the For Loop \n",
    "\n",
    "6. Statement which we want to repeat "
   ]
  },
  {
   "cell_type": "code",
   "execution_count": 17,
   "metadata": {},
   "outputs": [
    {
     "output_type": "stream",
     "name": "stdout",
     "text": [
      "1\n2\n3\n5\n7\n11\n13\n17\n19\n23\n29\n31\n37\n41\n43\n47\n53\n59\n61\n67\n71\n73\n79\n83\n89\n97\n101\n103\n107\n109\n113\n127\n131\n137\n139\n149\n151\n157\n163\n167\n173\n179\n181\n191\n193\n197\n199\n211\n223\n227\n229\n233\n239\n241\n251\n257\n263\n269\n271\n277\n281\n283\n293\n307\n311\n313\n317\n331\n337\n347\n349\n353\n359\n367\n373\n379\n383\n389\n397\n401\n409\n419\n421\n431\n433\n439\n443\n449\n457\n461\n463\n467\n479\n487\n491\n499\n503\n509\n521\n523\n541\n547\n557\n563\n569\n571\n577\n587\n593\n599\n601\n607\n613\n617\n619\n631\n641\n643\n647\n653\n659\n661\n673\n677\n683\n691\n701\n709\n719\n727\n733\n739\n743\n751\n757\n761\n769\n773\n787\n797\n809\n811\n821\n823\n827\n829\n839\n853\n857\n859\n863\n877\n881\n883\n887\n907\n911\n919\n929\n937\n941\n947\n953\n967\n971\n977\n983\n991\n997\n"
     ]
    }
   ],
   "source": [
    "#2 Use For Loop to Print Prime Numbers in between 1 to 1000\n",
    "\n",
    "for i in range(1,1001):\n",
    "    \n",
    "    for j in range(2,i):\n",
    "        if (i % j) == 0:\n",
    "            break\n",
    "    else:\n",
    "        print(i)"
   ]
  },
  {
   "cell_type": "code",
   "execution_count": 31,
   "metadata": {},
   "outputs": [
    {
     "output_type": "stream",
     "name": "stdout",
     "text": [
      "\n\n1\t2\t3\t4\t5\t6\t7\t8\t9\t10\t\n\n2\t4\t6\t8\t10\t12\t14\t16\t18\t20\t\n\n3\t6\t9\t12\t15\t18\t21\t24\t27\t30\t\n\n4\t8\t12\t16\t20\t24\t28\t32\t36\t40\t\n\n5\t10\t15\t20\t25\t30\t35\t40\t45\t50\t\n\n6\t12\t18\t24\t30\t36\t42\t48\t54\t60\t\n\n7\t14\t21\t28\t35\t42\t49\t56\t63\t70\t\n\n8\t16\t24\t32\t40\t48\t56\t64\t72\t80\t\n\n9\t18\t27\t36\t45\t54\t63\t72\t81\t90\t\n\n10\t20\t30\t40\t50\t60\t70\t80\t90\t100\t"
     ]
    }
   ],
   "source": [
    "#3 Write a program for printing the tables from 1,10 using Nested For Loop\n",
    "\n",
    "for i in range(1,11):\n",
    "    print(\"\\n\")   \n",
    "    for j in range(1,11):\n",
    "        print(i  * j,end=\"\\t\")\n"
   ]
  },
  {
   "cell_type": "code",
   "execution_count": 6,
   "metadata": {
    "tags": []
   },
   "outputs": [
    {
     "output_type": "stream",
     "name": "stdout",
     "text": [
      "2\n3\n5\n7\n"
     ]
    }
   ],
   "source": [
    "#4 Write a program to Print X Prime Numbers using While Loop starting from 0, and take the INput of X from the user\n",
    "\n",
    "n=int(input(\"Enter maximun range for  prime numbers:\"))\n",
    "i=2 \n",
    "while(i<n):\n",
    "    j=2\n",
    "    while(j<=i/j):\n",
    "        if i%j==0:\n",
    "            break\n",
    "        j=j+1\n",
    "    if (j>i/j):\n",
    "        print (i)\n",
    "    i+=1\n",
    "\n",
    "        "
   ]
  },
  {
   "cell_type": "code",
   "execution_count": 1,
   "metadata": {},
   "outputs": [],
   "source": [
    " "
   ]
  },
  {
   "cell_type": "code",
   "execution_count": null,
   "metadata": {},
   "outputs": [],
   "source": []
  }
 ],
 "metadata": {
  "kernelspec": {
   "name": "python3",
   "display_name": "Python 3.6.2 64-bit",
   "metadata": {
    "interpreter": {
     "hash": "f7a5641bb28080ef94ae7b6eca63d2f80cd8c14966aee1de6ed6a36f7e08c554"
    }
   }
  },
  "language_info": {
   "codemirror_mode": {
    "name": "ipython",
    "version": 3
   },
   "file_extension": ".py",
   "mimetype": "text/x-python",
   "name": "python",
   "nbconvert_exporter": "python",
   "pygments_lexer": "ipython3",
   "version": "3.6.2-final"
  }
 },
 "nbformat": 4,
 "nbformat_minor": 2
}